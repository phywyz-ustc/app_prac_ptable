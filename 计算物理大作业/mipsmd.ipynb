{
 "cells": [
  {
   "cell_type": "code",
   "execution_count": 1,
   "id": "b20753b9-80a8-44c4-84bc-43cbd3d3b8bb",
   "metadata": {},
   "outputs": [],
   "source": [
    "import numpy as np\n",
    "import matplotlib.pyplot as plt"
   ]
  },
  {
   "cell_type": "code",
   "execution_count": 2,
   "id": "4bf8d425-9db5-440f-b1d6-e7a490753e0a",
   "metadata": {},
   "outputs": [],
   "source": [
    "def calculate_force(positions, verlet_list, box_length, k):\n",
    "    forces = np.zeros_like(positions)\n",
    "    for i in range(len(positions)):\n",
    "        for j in verlet_list[i]:\n",
    "            rij = positions[j] - positions[i]\n",
    "            rij = rij - np.round(rij / box_length) * box_length  # PBC\n",
    "            if np.linalg.norm(rij)<=0.8:\n",
    "                forces[i] += -k *rij* (0.8/np.linalg.norm(rij)-1)\n",
    "    return forces"
   ]
  },
  {
   "cell_type": "code",
   "execution_count": 3,
   "id": "2f008704-8535-44a2-890f-ddd9ad751f0b",
   "metadata": {},
   "outputs": [],
   "source": [
    "def verlet_list(positions, box_length, cutoff):\n",
    "    verlet_list = []\n",
    "\n",
    "    for i in range(len(positions)):\n",
    "        verlet_list.append([])\n",
    "        for j in range(len(positions)):\n",
    "            if i != j:\n",
    "                rij = positions[j] - positions[i]\n",
    "                rij = rij - np.round(rij / box_length) * box_length  # PBC\n",
    "                r = np.linalg.norm(rij)\n",
    "                if r < cutoff:\n",
    "                    verlet_list[i].append(j)\n",
    "\n",
    "    return verlet_list"
   ]
  },
  {
   "cell_type": "code",
   "execution_count": 4,
   "id": "87beccb3-c2b4-45be-b47d-f83ffe9697e9",
   "metadata": {},
   "outputs": [],
   "source": [
    "def velocity_verlet(positions,theta, velocities,omiga, forces, dt, mass,jm, box_length, k, verlet_list,fran,frano,gamma,gammao,f0):\n",
    "    fact=np.zeros_like(forces)\n",
    "    for i in range(num_particles):\n",
    "        fact[0]=f0*np.cos(theta[i])\n",
    "        fact[1]=f0*np.sin(theta[i])\n",
    "    fmo=-gamma*velocities\n",
    "    fmoo=-gammao*omiga\n",
    "    forcestot=forces+fmo+fran+fact\n",
    "    accel = forcestot / mass\n",
    "    accelomiga=(fmoo+frano)/jm\n",
    "    # 更新位置\n",
    "    positions += velocities * dt + 0.5 * accel * dt**2\n",
    "    positions = positions % box_length  # PBC\n",
    "    theta+=omiga*dt+0.5*accelomiga*dt**2\n",
    "    # 计算新的受力\n",
    "    new_forces = calculate_force(positions, verlet_list, box_length, k)\n",
    "\n",
    "    # 更新速度\n",
    "    velocities += 0.5 * (forces + new_forces+2*(fmo+fran+fact)) / mass * dt\n",
    "    omiga +=(fmoo+frano)/jm*dt\n",
    "    # 更新受力\n",
    "    forces = new_forces\n",
    "\n",
    "    return positions, velocities, forces"
   ]
  },
  {
   "cell_type": "code",
   "execution_count": 5,
   "id": "70fdd2a5-785a-44e5-a2ca-35f7a77fb04e",
   "metadata": {},
   "outputs": [],
   "source": [
    "# 模拟参数\n",
    "num_particles = 90\n",
    "num_steps = 16000\n",
    "dt = 0.002\n",
    "mass = 0.015\n",
    "d=0.8\n",
    "jm=mass*d*d/10\n",
    "box_length = 15.0\n",
    "k = 6\n",
    "cutoff = 4\n",
    "verlet_cutoff = 5\n",
    "gamma=0.005\n",
    "gammao=gamma*d*d/3\n",
    "f0=28\n",
    "# 初始化位置和速度\n",
    "positions = np.random.rand(num_particles, 2) * box_length\n",
    "frans=np.random.randn(num_steps,num_particles, 2)*0.8\n",
    "franos=np.random.randn(num_steps,num_particles)*0.8*d*d*6\n",
    "velocities = np.random.randn(num_particles, 2)\n",
    "forces = np.zeros_like(positions)\n",
    "theta=np.random.rand(num_particles)*2*np.pi\n",
    "omiga=np.random.rand(num_particles)\n",
    "v = np.random.randn(num_particles)\n",
    "# Verlet 列表\n",
    "verlet_listnew = verlet_list(positions, box_length, verlet_cutoff)\n",
    "\n",
    "# 保存历史信息\n",
    "history = np.zeros((num_steps, num_particles, 2))\n",
    "historyo= np.zeros((num_steps, num_particles))\n",
    "history[0] = positions\n",
    "historyo[0] = omiga"
   ]
  },
  {
   "cell_type": "code",
   "execution_count": null,
   "id": "3aff2104-27aa-467a-a4e7-1ebdbc8bd3ae",
   "metadata": {
    "tags": []
   },
   "outputs": [],
   "source": [
    "for step in range(1, num_steps):\n",
    "    fran=frans[step]\n",
    "    frano=franos[step]\n",
    "    positions, velocities, forces = velocity_verlet(positions,theta, velocities,omiga, forces, dt, mass,jm, box_length, k, verlet_listnew,fran,frano,gamma,gammao,f0)\n",
    "    if step%5==2:\n",
    "        verlet_listnew=verlet_list(positions, box_length, verlet_cutoff)\n",
    "        for ii in range(num_particles):\n",
    "            v[ii]=np.linalg.norm(velocities[ii])\n",
    "        maxindex  = np.argmax(v)    \n",
    "        velocities[maxindex]=velocities[maxindex]/2\n",
    "    history[step] = positions\n",
    "    historyo[step]= omiga\n",
    "\n",
    "np.save('historyunderf28.npy',history)\n",
    "np.save('historyounderf28.npy',historyo)"
   ]
  }
 ],
 "metadata": {
  "kernelspec": {
   "display_name": "myconda",
   "language": "python",
   "name": "myconda"
  },
  "language_info": {
   "codemirror_mode": {
    "name": "ipython",
    "version": 3
   },
   "file_extension": ".py",
   "mimetype": "text/x-python",
   "name": "python",
   "nbconvert_exporter": "python",
   "pygments_lexer": "ipython3",
   "version": "3.8.12"
  }
 },
 "nbformat": 4,
 "nbformat_minor": 5
}
